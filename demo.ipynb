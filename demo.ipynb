{
 "cells": [
  {
   "cell_type": "markdown",
   "metadata": {},
   "source": [
    "\"Engineered\" and \"contrived\" are not synonyms according to https://wordnet.princeton.edu/"
   ]
  }, 
  {
   "cell_type": "code",
   "execution_count": 8,
   "metadata": {},
   "outputs": [
    {
     "data": {
      "text/plain": [
       "[Synset('plan.v.03'),\n",
       " Synset('invent.v.01'),\n",
       " Synset('project.v.10'),\n",
       " Synset('contrived.s.01'),\n",
       " Synset('artificial.s.02')]"
      ]
     },
     "execution_count": 8,
     "metadata": {},
     "output_type": "execute_result"
    }
   ],
   "source": [
    "from nltk.corpus import wordnet\n",
    "wordnet.synsets('contrived')"
   ]
  },
  {
   "cell_type": "markdown",
   "metadata": {},
   "source": [
    "However, the two example sentences are near duplicates. The [Jaccard index](https://en.wikipedia.org/wiki/Jaccard_index) of the [set](https://en.wikipedia.org/wiki/Set_(mathematics)) of [unigrams](https://en.wikipedia.org/wiki/N-gram) (the [1-shingling](https://en.wikipedia.org/wiki/W-shingling)—because the sentences are short) is ~0.86 (well above the near-duplicate threshold for my near-duplicate detection software)."
   ]
  },
  {
   "cell_type": "code",
   "execution_count": 9,
   "metadata": {},
   "outputs": [
    {
     "data": {
      "text/plain": [
       "0.8571428571428571"
      ]
     },
     "execution_count": 9,
     "metadata": {},
     "output_type": "execute_result"
    }
   ],
   "source": [
    "import nltk\n",
    "sentence1 = \"The characters, cast in impossibly contrived situations, are totally estranged from reality\"\n",
    "sentence2 = \"The characters, cast in impossibly engineered situations, are totally estranged from reality\"\n",
    "tokens1 = nltk.word_tokenize(sentence1)\n",
    "tokens2 = nltk.word_tokenize(sentence2)\n",
    "set1 = set(tokens1)\n",
    "set2 = set(tokens2)\n",
    "jaccard = len(set1.intersection(set2))/len(set1.union(set2))\n",
    "jaccard"
   ]
  },
  {
   "cell_type": "markdown",
   "metadata": {},
   "source": [
    "Importantly, however, if one substitutes in more synonyms (not merely [different inflections](https://en.wikipedia.org/wiki/Stemming)), one may obtain a much lower Jaccard index, to the point that they would not be identified as near duplicates. Of course, in a sense, they're literally not near duplicates—but they could still be bot-generated sentences (so, it may be impossible to rely on near duplicate status to identify bots or otherwise cluster sentences)."
   ]
  },
  {
   "cell_type": "code",
   "execution_count": 13,
   "metadata": {},
   "outputs": [
    {
     "data": {
      "text/plain": [
       "0.35"
      ]
     },
     "execution_count": 13,
     "metadata": {},
     "output_type": "execute_result"
    }
   ],
   "source": [
    "set3 = set(nltk.word_tokenize(\"The actors, cast in impossibly manufactured scenes, are truly removed from real life\"))\n",
    "len(set1.intersection(set3))/len(set1.union(set3))"
   ]
  }
 ],
 "metadata": {
  "kernelspec": {
   "display_name": "Python 3",
   "language": "python",
   "name": "python3"
  },
  "language_info": {
   "codemirror_mode": {
    "name": "ipython",
    "version": 3
   },
   "file_extension": ".py",
   "mimetype": "text/x-python",
   "name": "python",
   "nbconvert_exporter": "python",
   "pygments_lexer": "ipython3",
   "version": "3.7.6"
  }
 },
 "nbformat": 4,
 "nbformat_minor": 4
}
